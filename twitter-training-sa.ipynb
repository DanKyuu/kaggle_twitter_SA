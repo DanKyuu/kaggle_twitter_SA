{
 "cells": [
  {
   "cell_type": "code",
   "execution_count": 1,
   "id": "d8fe0745",
   "metadata": {
    "_cell_guid": "b1076dfc-b9ad-4769-8c92-a6c4dae69d19",
    "_uuid": "8f2839f25d086af736a60e9eeb907d3b93b6e0e5",
    "execution": {
     "iopub.execute_input": "2022-04-13T02:13:18.362123Z",
     "iopub.status.busy": "2022-04-13T02:13:18.360392Z",
     "iopub.status.idle": "2022-04-13T02:13:18.383202Z",
     "shell.execute_reply": "2022-04-13T02:13:18.383741Z",
     "shell.execute_reply.started": "2022-04-13T01:30:52.663827Z"
    },
    "papermill": {
     "duration": 0.035704,
     "end_time": "2022-04-13T02:13:18.384054",
     "exception": false,
     "start_time": "2022-04-13T02:13:18.348350",
     "status": "completed"
    },
    "tags": []
   },
   "outputs": [
    {
     "name": "stdout",
     "output_type": "stream",
     "text": [
      "/kaggle/input/twitter-entity-sentiment-analysis/twitter_validation.csv\n",
      "/kaggle/input/twitter-entity-sentiment-analysis/twitter_training.csv\n"
     ]
    }
   ],
   "source": [
    "# This Python 3 environment comes with many helpful analytics libraries installed\n",
    "# It is defined by the kaggle/python Docker image: https://github.com/kaggle/docker-python\n",
    "# For example, here's several helpful packages to load\n",
    "\n",
    "import numpy as np # linear algebra\n",
    "import pandas as pd # data processing, CSV file I/O (e.g. pd.read_csv)\n",
    "\n",
    "# Input data files are available in the read-only \"../input/\" directory\n",
    "# For example, running this (by clicking run or pressing Shift+Enter) will list all files under the input directory\n",
    "\n",
    "import os\n",
    "for dirname, _, filenames in os.walk('/kaggle/input'):\n",
    "    for filename in filenames:\n",
    "        print(os.path.join(dirname, filename))\n",
    "\n",
    "# You can write up to 20GB to the current directory (/kaggle/working/) that gets preserved as output when you create a version using \"Save & Run All\" \n",
    "# You can also write temporary files to /kaggle/temp/, but they won't be saved outside of the current session"
   ]
  },
  {
   "cell_type": "code",
   "execution_count": 2,
   "id": "f86dbb1b",
   "metadata": {
    "execution": {
     "iopub.execute_input": "2022-04-13T02:13:18.401885Z",
     "iopub.status.busy": "2022-04-13T02:13:18.401053Z",
     "iopub.status.idle": "2022-04-13T02:13:18.762325Z",
     "shell.execute_reply": "2022-04-13T02:13:18.761517Z",
     "shell.execute_reply.started": "2022-04-13T01:30:53.029997Z"
    },
    "papermill": {
     "duration": 0.370679,
     "end_time": "2022-04-13T02:13:18.762487",
     "exception": false,
     "start_time": "2022-04-13T02:13:18.391808",
     "status": "completed"
    },
    "tags": []
   },
   "outputs": [],
   "source": [
    "tra = pd.read_csv(\"../input/twitter-entity-sentiment-analysis/twitter_training.csv\")\n",
    "val = pd.read_csv(\"../input/twitter-entity-sentiment-analysis/twitter_validation.csv\")"
   ]
  },
  {
   "cell_type": "code",
   "execution_count": 3,
   "id": "81e6085d",
   "metadata": {
    "execution": {
     "iopub.execute_input": "2022-04-13T02:13:18.779607Z",
     "iopub.status.busy": "2022-04-13T02:13:18.779104Z",
     "iopub.status.idle": "2022-04-13T02:13:18.798258Z",
     "shell.execute_reply": "2022-04-13T02:13:18.798854Z",
     "shell.execute_reply.started": "2022-04-13T01:30:53.373611Z"
    },
    "papermill": {
     "duration": 0.029025,
     "end_time": "2022-04-13T02:13:18.799033",
     "exception": false,
     "start_time": "2022-04-13T02:13:18.770008",
     "status": "completed"
    },
    "tags": []
   },
   "outputs": [
    {
     "data": {
      "text/html": [
       "<div>\n",
       "<style scoped>\n",
       "    .dataframe tbody tr th:only-of-type {\n",
       "        vertical-align: middle;\n",
       "    }\n",
       "\n",
       "    .dataframe tbody tr th {\n",
       "        vertical-align: top;\n",
       "    }\n",
       "\n",
       "    .dataframe thead th {\n",
       "        text-align: right;\n",
       "    }\n",
       "</style>\n",
       "<table border=\"1\" class=\"dataframe\">\n",
       "  <thead>\n",
       "    <tr style=\"text-align: right;\">\n",
       "      <th></th>\n",
       "      <th>2401</th>\n",
       "      <th>Borderlands</th>\n",
       "      <th>Positive</th>\n",
       "      <th>im getting on borderlands and i will murder you all ,</th>\n",
       "    </tr>\n",
       "  </thead>\n",
       "  <tbody>\n",
       "    <tr>\n",
       "      <th>0</th>\n",
       "      <td>2401</td>\n",
       "      <td>Borderlands</td>\n",
       "      <td>Positive</td>\n",
       "      <td>I am coming to the borders and I will kill you...</td>\n",
       "    </tr>\n",
       "    <tr>\n",
       "      <th>1</th>\n",
       "      <td>2401</td>\n",
       "      <td>Borderlands</td>\n",
       "      <td>Positive</td>\n",
       "      <td>im getting on borderlands and i will kill you ...</td>\n",
       "    </tr>\n",
       "    <tr>\n",
       "      <th>2</th>\n",
       "      <td>2401</td>\n",
       "      <td>Borderlands</td>\n",
       "      <td>Positive</td>\n",
       "      <td>im coming on borderlands and i will murder you...</td>\n",
       "    </tr>\n",
       "    <tr>\n",
       "      <th>3</th>\n",
       "      <td>2401</td>\n",
       "      <td>Borderlands</td>\n",
       "      <td>Positive</td>\n",
       "      <td>im getting on borderlands 2 and i will murder ...</td>\n",
       "    </tr>\n",
       "    <tr>\n",
       "      <th>4</th>\n",
       "      <td>2401</td>\n",
       "      <td>Borderlands</td>\n",
       "      <td>Positive</td>\n",
       "      <td>im getting into borderlands and i can murder y...</td>\n",
       "    </tr>\n",
       "  </tbody>\n",
       "</table>\n",
       "</div>"
      ],
      "text/plain": [
       "   2401  Borderlands  Positive  \\\n",
       "0  2401  Borderlands  Positive   \n",
       "1  2401  Borderlands  Positive   \n",
       "2  2401  Borderlands  Positive   \n",
       "3  2401  Borderlands  Positive   \n",
       "4  2401  Borderlands  Positive   \n",
       "\n",
       "  im getting on borderlands and i will murder you all ,  \n",
       "0  I am coming to the borders and I will kill you...     \n",
       "1  im getting on borderlands and i will kill you ...     \n",
       "2  im coming on borderlands and i will murder you...     \n",
       "3  im getting on borderlands 2 and i will murder ...     \n",
       "4  im getting into borderlands and i can murder y...     "
      ]
     },
     "execution_count": 3,
     "metadata": {},
     "output_type": "execute_result"
    }
   ],
   "source": [
    "tra.head()"
   ]
  },
  {
   "cell_type": "code",
   "execution_count": null,
   "id": "182ced76",
   "metadata": {
    "papermill": {
     "duration": 0.007508,
     "end_time": "2022-04-13T02:13:18.814538",
     "exception": false,
     "start_time": "2022-04-13T02:13:18.807030",
     "status": "completed"
    },
    "tags": []
   },
   "outputs": [],
   "source": []
  }
 ],
 "metadata": {
  "kernelspec": {
   "display_name": "Python 3",
   "language": "python",
   "name": "python3"
  },
  "language_info": {
   "codemirror_mode": {
    "name": "ipython",
    "version": 3
   },
   "file_extension": ".py",
   "mimetype": "text/x-python",
   "name": "python",
   "nbconvert_exporter": "python",
   "pygments_lexer": "ipython3",
   "version": "3.7.12"
  },
  "papermill": {
   "default_parameters": {},
   "duration": 11.679193,
   "end_time": "2022-04-13T02:13:19.431167",
   "environment_variables": {},
   "exception": null,
   "input_path": "__notebook__.ipynb",
   "output_path": "__notebook__.ipynb",
   "parameters": {},
   "start_time": "2022-04-13T02:13:07.751974",
   "version": "2.3.3"
  }
 },
 "nbformat": 4,
 "nbformat_minor": 5
}
